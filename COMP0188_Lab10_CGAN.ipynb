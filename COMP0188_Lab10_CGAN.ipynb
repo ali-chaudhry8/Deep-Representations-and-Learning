{
  "nbformat": 4,
  "nbformat_minor": 0,
  "metadata": {
    "colab": {
      "provenance": []
    },
    "kernelspec": {
      "name": "python3",
      "display_name": "Python 3"
    },
    "language_info": {
      "name": "python"
    },
    "accelerator": "GPU",
    "gpuClass": "standard"
  },
  "cells": [
    {
      "cell_type": "markdown",
      "source": [
        "#Conditional GAN\n",
        "\n",
        "Despite GANs help in generating new random plausible examples for a given dataset, there is no way to control the types of images that are generated other than trying to figure out the complex relationship between the latent space input to the generator and the generated images. cGAN helps and involved in conditional generation of images by a generator model.\n",
        "\n",
        "\n",
        "1. The limitations of generating random samples with a GAN that can be overcome with a conditional generative adversarial network.\n",
        "2. How to develop and evaluate an unconditional generative adversarial network for generating fashion MNIST images.\n",
        "3. How to develop and evaluate a conditional generative adversarial network for generating fashion MNIST images.\n",
        "\n",
        "Motivations for making use of the class label information in a GAN model are given below which are salient in the development framework of CGANs.\n",
        "1. Improve the GAN.\n",
        "2. Improve targeted Image Generation.\n",
        "3. Faster training of GAN."
      ],
      "metadata": {
        "id": "4WOdOT4bhqnC"
      }
    },
    {
      "cell_type": "markdown",
      "source": [
        "## Part 1 - Defining the Conditional GAN"
      ],
      "metadata": {
        "id": "m1JuEiLluHOv"
      }
    },
    {
      "cell_type": "code",
      "source": [
        "### Import necessary packages ###\n",
        "import numpy as np\n",
        "from numpy.random import randn\n",
        "from numpy.random import randint\n",
        "from keras.datasets.fashion_mnist import load_data\n",
        "from keras.optimizers import Adam\n",
        "from keras.models import Model\n",
        "from keras.layers import Input\n",
        "from keras.layers import Dense\n",
        "from keras.layers import Reshape\n",
        "from keras.layers import Flatten\n",
        "from keras.layers import Conv2D\n",
        "from keras.layers import Conv2DTranspose\n",
        "from keras.layers import LeakyReLU\n",
        "from keras.layers import Dropout\n",
        "from keras.layers import Embedding\n",
        "from keras.layers import Concatenate\n"
      ],
      "metadata": {
        "id": "-MRGenu_ipWV"
      },
      "execution_count": 1,
      "outputs": []
    },
    {
      "cell_type": "markdown",
      "source": [
        "For conditional GANs, the discriminator is fed with input and labels, so a sequential API will be not suitable in this case. So to aid, and for the ease of feeding multiple inputs to the network we use functional API of Keras package."
      ],
      "metadata": {
        "id": "8SQTeJHJhapj"
      }
    },
    {
      "cell_type": "code",
      "execution_count": 2,
      "metadata": {
        "id": "jEu-4RDQhGqX",
        "colab": {
          "base_uri": "https://localhost:8080/"
        },
        "outputId": "103d2d9e-ddd3-492f-9d94-8d0eeb7cc190"
      },
      "outputs": [
        {
          "output_type": "stream",
          "name": "stdout",
          "text": [
            "Model: \"model\"\n",
            "__________________________________________________________________________________________________\n",
            " Layer (type)                   Output Shape         Param #     Connected to                     \n",
            "==================================================================================================\n",
            " input_1 (InputLayer)           [(None, 1)]          0           []                               \n",
            "                                                                                                  \n",
            " embedding (Embedding)          (None, 1, 50)        500         ['input_1[0][0]']                \n",
            "                                                                                                  \n",
            " dense (Dense)                  (None, 1, 784)       39984       ['embedding[0][0]']              \n",
            "                                                                                                  \n",
            " input_2 (InputLayer)           [(None, 28, 28, 1)]  0           []                               \n",
            "                                                                                                  \n",
            " reshape (Reshape)              (None, 28, 28, 1)    0           ['dense[0][0]']                  \n",
            "                                                                                                  \n",
            " concatenate (Concatenate)      (None, 28, 28, 2)    0           ['input_2[0][0]',                \n",
            "                                                                  'reshape[0][0]']                \n",
            "                                                                                                  \n",
            " conv2d (Conv2D)                (None, 14, 14, 128)  2432        ['concatenate[0][0]']            \n",
            "                                                                                                  \n",
            " leaky_re_lu (LeakyReLU)        (None, 14, 14, 128)  0           ['conv2d[0][0]']                 \n",
            "                                                                                                  \n",
            " conv2d_1 (Conv2D)              (None, 7, 7, 128)    147584      ['leaky_re_lu[0][0]']            \n",
            "                                                                                                  \n",
            " leaky_re_lu_1 (LeakyReLU)      (None, 7, 7, 128)    0           ['conv2d_1[0][0]']               \n",
            "                                                                                                  \n",
            " flatten (Flatten)              (None, 6272)         0           ['leaky_re_lu_1[0][0]']          \n",
            "                                                                                                  \n",
            " dropout (Dropout)              (None, 6272)         0           ['flatten[0][0]']                \n",
            "                                                                                                  \n",
            " dense_1 (Dense)                (None, 1)            6273        ['dropout[0][0]']                \n",
            "                                                                                                  \n",
            "==================================================================================================\n",
            "Total params: 196,773\n",
            "Trainable params: 196,773\n",
            "Non-trainable params: 0\n",
            "__________________________________________________________________________________________________\n"
          ]
        }
      ],
      "source": [
        "# define the standalone discriminator model\n",
        "def define_discriminator(in_shape=(28,28,1), n_classes=10):\n",
        "  # label input\n",
        "  in_label = Input(shape=(1,))\n",
        "  # embedding for categorical input\n",
        "  li = Embedding(n_classes, 50)(in_label)\n",
        "  # scale up to image dimensions with linear activation\n",
        "  n_nodes = in_shape[0] * in_shape[1]\n",
        "  li = Dense(n_nodes)(li)\n",
        "  # reshape to additional channel\n",
        "  li = Reshape((in_shape[0], in_shape[1], 1))(li)\n",
        "  # image input\n",
        "  in_image = Input(shape=in_shape)\n",
        "  # concat label as a channel\n",
        "  merge = Concatenate()([in_image, li])\n",
        "  # downsample\n",
        "  feature = Conv2D(128, (3,3), strides=(2,2), padding=\"same\")(merge)\n",
        "  feature = LeakyReLU(alpha=0.2)(feature)\n",
        "  # downsample\n",
        "  feature = Conv2D(128, (3,3), strides=(2,2), padding=\"same\")(feature)\n",
        "  feature = LeakyReLU(alpha=0.2)(feature)\n",
        "  # flatten feature maps\n",
        "  feature = Flatten()(feature)\n",
        "  # dropout\n",
        "  feature = Dropout(0.4)(feature)\n",
        "  # output\n",
        "  out_layer = Dense(1, activation=\"sigmoid\")(feature)\n",
        "  # define model\n",
        "  model = Model([in_image, in_label], out_layer)\n",
        "  # compile model\n",
        "  opt = Adam(learning_rate=0.0002, beta_1=0.5)\n",
        "  model.compile(loss=\"binary_crossentropy\", optimizer=opt, metrics=[\"accuracy\"])\n",
        "  return model\n",
        "\n",
        "disc_model = define_discriminator()\n",
        "disc_model.summary()"
      ]
    },
    {
      "cell_type": "code",
      "source": [
        "################ Define generator #####################\n",
        "\n",
        "# define the standalone generator model\n",
        "def define_generator(latent_dim, n_classes=10):\n",
        "  # label input\n",
        "  in_label = Input(shape=(1,))\n",
        "  # embedding for categorical input\n",
        "  li = Embedding(n_classes, 50)(in_label)\n",
        "  # linear multiplication\n",
        "  n_nodes = 7 * 7\n",
        "  li = Dense(n_nodes)(li)\n",
        "  # reshape to additional channel\n",
        "  li = Reshape((7, 7, 1))(li)\n",
        "  # image generator input\n",
        "  in_lat = Input(shape=(latent_dim,))\n",
        "  # foundation for 7x7 image\n",
        "  n_nodes = 128 * 7 * 7\n",
        "  gen = Dense(n_nodes)(in_lat)\n",
        "  gen = LeakyReLU(alpha=0.2)(gen)\n",
        "  gen = Reshape((7, 7, 128))(gen)\n",
        "  # merge image gen and label input\n",
        "  merge = Concatenate()([gen, li])\n",
        "  # upsample to 14x14\n",
        "  gen = Conv2DTranspose(128, (4,4), strides=(2,2), padding=\"same\")(merge)\n",
        "  gen = LeakyReLU(alpha=0.2)(gen)\n",
        "  # upsample to 28x28\n",
        "  gen = Conv2DTranspose(128, (4,4), strides=(2,2), padding=\"same\")(gen)\n",
        "  gen = LeakyReLU(alpha=0.2)(gen)\n",
        "  # output\n",
        "  out_layer = Conv2D(1, (7,7), activation=\"tanh\", padding=\"same\")(gen)\n",
        "  # define model\n",
        "  model = Model([in_lat, in_label], out_layer)\n",
        "  return model\n",
        "\n",
        "gen_model = define_generator(latent_dim=100, n_classes=10)\n",
        "gen_model.summary()"
      ],
      "metadata": {
        "colab": {
          "base_uri": "https://localhost:8080/"
        },
        "id": "8djnEPRfZzdf",
        "outputId": "74b5c1ea-d676-4ca7-e397-a37f13db6c97"
      },
      "execution_count": 3,
      "outputs": [
        {
          "output_type": "stream",
          "name": "stdout",
          "text": [
            "Model: \"model_1\"\n",
            "__________________________________________________________________________________________________\n",
            " Layer (type)                   Output Shape         Param #     Connected to                     \n",
            "==================================================================================================\n",
            " input_4 (InputLayer)           [(None, 100)]        0           []                               \n",
            "                                                                                                  \n",
            " input_3 (InputLayer)           [(None, 1)]          0           []                               \n",
            "                                                                                                  \n",
            " dense_3 (Dense)                (None, 6272)         633472      ['input_4[0][0]']                \n",
            "                                                                                                  \n",
            " embedding_1 (Embedding)        (None, 1, 50)        500         ['input_3[0][0]']                \n",
            "                                                                                                  \n",
            " leaky_re_lu_2 (LeakyReLU)      (None, 6272)         0           ['dense_3[0][0]']                \n",
            "                                                                                                  \n",
            " dense_2 (Dense)                (None, 1, 49)        2499        ['embedding_1[0][0]']            \n",
            "                                                                                                  \n",
            " reshape_2 (Reshape)            (None, 7, 7, 128)    0           ['leaky_re_lu_2[0][0]']          \n",
            "                                                                                                  \n",
            " reshape_1 (Reshape)            (None, 7, 7, 1)      0           ['dense_2[0][0]']                \n",
            "                                                                                                  \n",
            " concatenate_1 (Concatenate)    (None, 7, 7, 129)    0           ['reshape_2[0][0]',              \n",
            "                                                                  'reshape_1[0][0]']              \n",
            "                                                                                                  \n",
            " conv2d_transpose (Conv2DTransp  (None, 14, 14, 128)  264320     ['concatenate_1[0][0]']          \n",
            " ose)                                                                                             \n",
            "                                                                                                  \n",
            " leaky_re_lu_3 (LeakyReLU)      (None, 14, 14, 128)  0           ['conv2d_transpose[0][0]']       \n",
            "                                                                                                  \n",
            " conv2d_transpose_1 (Conv2DTran  (None, 28, 28, 128)  262272     ['leaky_re_lu_3[0][0]']          \n",
            " spose)                                                                                           \n",
            "                                                                                                  \n",
            " leaky_re_lu_4 (LeakyReLU)      (None, 28, 28, 128)  0           ['conv2d_transpose_1[0][0]']     \n",
            "                                                                                                  \n",
            " conv2d_2 (Conv2D)              (None, 28, 28, 1)    6273        ['leaky_re_lu_4[0][0]']          \n",
            "                                                                                                  \n",
            "==================================================================================================\n",
            "Total params: 1,169,336\n",
            "Trainable params: 1,169,336\n",
            "Non-trainable params: 0\n",
            "__________________________________________________________________________________________________\n"
          ]
        }
      ]
    },
    {
      "cell_type": "code",
      "source": [
        "# define the combined generator and discriminator model, for updating the generator\n",
        "def define_gan(g_model, d_model):\n",
        "  # make weights in the discriminator not trainable\n",
        "  d_model.trainable = False\n",
        "  # get noise and label inputs from generator model\n",
        "  gen_noise, gen_label = g_model.input\n",
        "  # get image output from the generator model\n",
        "  gen_output = g_model.output\n",
        "  # connect image output and label input from generator as inputs to discriminator\n",
        "  gan_output = d_model([gen_output, gen_label])\n",
        "  # define gan model as taking noise and label and outputting a classification\n",
        "  model = Model([gen_noise, gen_label], gan_output)\n",
        "  # compile model\n",
        "  opt = Adam(learning_rate=0.0002, beta_1=0.5)\n",
        "  model.compile(loss=\"binary_crossentropy\", optimizer=opt)\n",
        "  return model\n",
        "\n",
        "#\n",
        "gan_model = define_gan(gen_model, disc_model)\n",
        "gan_model.summary()"
      ],
      "metadata": {
        "colab": {
          "base_uri": "https://localhost:8080/"
        },
        "id": "VKZ-k-tVbMUw",
        "outputId": "cd316755-6620-44a0-c912-ef6c07be45db"
      },
      "execution_count": 4,
      "outputs": [
        {
          "output_type": "stream",
          "name": "stdout",
          "text": [
            "Model: \"model_2\"\n",
            "__________________________________________________________________________________________________\n",
            " Layer (type)                   Output Shape         Param #     Connected to                     \n",
            "==================================================================================================\n",
            " input_4 (InputLayer)           [(None, 100)]        0           []                               \n",
            "                                                                                                  \n",
            " input_3 (InputLayer)           [(None, 1)]          0           []                               \n",
            "                                                                                                  \n",
            " dense_3 (Dense)                (None, 6272)         633472      ['input_4[0][0]']                \n",
            "                                                                                                  \n",
            " embedding_1 (Embedding)        (None, 1, 50)        500         ['input_3[0][0]']                \n",
            "                                                                                                  \n",
            " leaky_re_lu_2 (LeakyReLU)      (None, 6272)         0           ['dense_3[0][0]']                \n",
            "                                                                                                  \n",
            " dense_2 (Dense)                (None, 1, 49)        2499        ['embedding_1[0][0]']            \n",
            "                                                                                                  \n",
            " reshape_2 (Reshape)            (None, 7, 7, 128)    0           ['leaky_re_lu_2[0][0]']          \n",
            "                                                                                                  \n",
            " reshape_1 (Reshape)            (None, 7, 7, 1)      0           ['dense_2[0][0]']                \n",
            "                                                                                                  \n",
            " concatenate_1 (Concatenate)    (None, 7, 7, 129)    0           ['reshape_2[0][0]',              \n",
            "                                                                  'reshape_1[0][0]']              \n",
            "                                                                                                  \n",
            " conv2d_transpose (Conv2DTransp  (None, 14, 14, 128)  264320     ['concatenate_1[0][0]']          \n",
            " ose)                                                                                             \n",
            "                                                                                                  \n",
            " leaky_re_lu_3 (LeakyReLU)      (None, 14, 14, 128)  0           ['conv2d_transpose[0][0]']       \n",
            "                                                                                                  \n",
            " conv2d_transpose_1 (Conv2DTran  (None, 28, 28, 128)  262272     ['leaky_re_lu_3[0][0]']          \n",
            " spose)                                                                                           \n",
            "                                                                                                  \n",
            " leaky_re_lu_4 (LeakyReLU)      (None, 28, 28, 128)  0           ['conv2d_transpose_1[0][0]']     \n",
            "                                                                                                  \n",
            " conv2d_2 (Conv2D)              (None, 28, 28, 1)    6273        ['leaky_re_lu_4[0][0]']          \n",
            "                                                                                                  \n",
            " model (Functional)             (None, 1)            196773      ['conv2d_2[0][0]',               \n",
            "                                                                  'input_3[0][0]']                \n",
            "                                                                                                  \n",
            "==================================================================================================\n",
            "Total params: 1,366,109\n",
            "Trainable params: 1,169,336\n",
            "Non-trainable params: 196,773\n",
            "__________________________________________________________________________________________________\n"
          ]
        }
      ]
    },
    {
      "cell_type": "markdown",
      "source": [
        "### 1.1 - Data Preparation"
      ],
      "metadata": {
        "id": "aV9OwsQwuO81"
      }
    },
    {
      "cell_type": "code",
      "source": [
        "# load fashion mnist images\n",
        "def load_real_samples():\n",
        "  # load dataset\n",
        "  (trainX, trainy), (_, _) = load_data()\n",
        "  # expand to 3d, e.g. add channels\n",
        "  X = np.expand_dims(trainX, axis=-1)\n",
        "  # convert from ints to floats\n",
        "  X = X.astype(\"float32\")\n",
        "  # scale from [0,255] to [-1,1]\n",
        "  X = (X - 127.5) / 127.5\n",
        "  return [X, trainy]"
      ],
      "metadata": {
        "id": "2eDDHcyHb4rT"
      },
      "execution_count": 5,
      "outputs": []
    },
    {
      "cell_type": "code",
      "source": [
        "# # select real samples\n",
        "def generate_real_samples(dataset, n_samples):\n",
        "  # split into images and labels\n",
        "  images, labels = dataset\n",
        "  # choose random instances\n",
        "  ix = randint(0, images.shape[0], n_samples)\n",
        "  # select images and labels\n",
        "  X, labels = images[ix], labels[ix]\n",
        "  # generate class labels\n",
        "  y = np.ones((n_samples, 1))\n",
        "  return [X, labels], y"
      ],
      "metadata": {
        "id": "SKbCAyA3cODc"
      },
      "execution_count": 6,
      "outputs": []
    },
    {
      "cell_type": "code",
      "source": [
        "# generate points in latent space as input for the generator\n",
        "def generate_latent_points(latent_dim, n_samples, n_classes=10):\n",
        "  # generate points in the latent space\n",
        "  x_input = randn(latent_dim * n_samples)\n",
        "  # reshape into a batch of inputs for the network\n",
        "  z_input = x_input.reshape(n_samples, latent_dim)\n",
        "  # generate labels\n",
        "  labels = randint(0, n_classes, n_samples)\n",
        "  return [z_input, labels]\n",
        "\n",
        "# use the generator to generate n fake examples, with class labels\n",
        "def generate_fake_samples(generator, latent_dim, n_samples):\n",
        "  # generate points in latent space\n",
        "  z_input, labels_input = generate_latent_points(latent_dim, n_samples)\n",
        "  # predict outputs\n",
        "  images = generator.predict([z_input, labels_input], verbose='0')\n",
        "  # create class labels\n",
        "  y = np.zeros((n_samples, 1))\n",
        "  return [images, labels_input], y"
      ],
      "metadata": {
        "id": "CWYpihJIcfn3"
      },
      "execution_count": 22,
      "outputs": []
    },
    {
      "cell_type": "markdown",
      "source": [
        "### 1.2 - Defining the Training Loop"
      ],
      "metadata": {
        "id": "FQ8kmEn5uUOx"
      }
    },
    {
      "cell_type": "code",
      "source": [
        "from timeit import default_timer\n",
        "\n",
        "# train the generator and discriminator\n",
        "def train(g_model, d_model, gan_model, dataset, latent_dim, n_epochs=100, n_batch=128, print_freq=64):\n",
        "  bat_per_epo = int(dataset[0].shape[0] / n_batch)\n",
        "  half_batch = int(n_batch / 2)\n",
        "  train_start_t = default_timer()\n",
        "  # manually enumerate epochs\n",
        "  for i in range(n_epochs):\n",
        "    # enumerate batches over the training set\n",
        "    epoch_start_t = default_timer()\n",
        "    for j in range(bat_per_epo):\n",
        "      # get randomly selected real samples\n",
        "      [X_real, labels_real], y_real = generate_real_samples(dataset, half_batch)\n",
        "      # update discriminator model weights\n",
        "      d_loss1, _ = d_model.train_on_batch([X_real, labels_real], y_real)\n",
        "      # generate fake examples\n",
        "      [X_fake, labels], y_fake = generate_fake_samples(g_model, latent_dim, half_batch)\n",
        "      # update discriminator model weights\n",
        "      d_loss2, _ = d_model.train_on_batch([X_fake, labels], y_fake)\n",
        "      # prepare points in latent space as input for the generator\n",
        "      [z_input, labels_input] = generate_latent_points(latent_dim, n_batch)\n",
        "      # create inverted labels for the fake samples\n",
        "      y_gan = np.ones((n_batch, 1))\n",
        "      # update the generator via the discriminator's error\n",
        "      g_loss = gan_model.train_on_batch([z_input, labels_input], y_gan)\n",
        "      # summarize loss on this batch\n",
        "      curr_t = default_timer()\n",
        "      if (j + 1) % print_freq == 0:\n",
        "        print(\"Epoch >%d, Batch %d/%d, d1=%.3f, d2=%.3f g=%.3f, time=%.2f s\" %\n",
        "              (i+1, j+1, bat_per_epo, d_loss1, d_loss2, g_loss, curr_t - train_start_t))\n",
        "    print(f\"Epoch time: {round(curr_t - epoch_start_t, 2)} s; Total time: {round(curr_t - train_start_t, 2)} s\")\n",
        "  # save the generator model\n",
        "  g_model.save(\"cgan_generator.h5\")"
      ],
      "metadata": {
        "id": "2WlpeOQdc3Dm"
      },
      "execution_count": 30,
      "outputs": []
    },
    {
      "cell_type": "markdown",
      "source": [
        "### 1.3 - Training the GAN\n",
        "\n",
        "Estimated runtime: n_epochs * (1 minute / epoch)\n",
        "\n",
        "We will demonstrate n_epochs = 10 in class. \n",
        "\n",
        "This gives us some results but they're not amazing. \n",
        "\n",
        "You are invited to experiment with larger n_epochs at home"
      ],
      "metadata": {
        "id": "URAfFQmqudYd"
      }
    },
    {
      "cell_type": "code",
      "source": [
        "# size of the latent space\n",
        "latent_dim = 100\n",
        "n_epochs = 10\n",
        "# create the discriminator\n",
        "d_model = define_discriminator()\n",
        "# create the generator\n",
        "g_model = define_generator(latent_dim)\n",
        "# create the Conditional gan for Clothing Generation\n",
        "gan_model = define_gan(g_model, d_model)\n",
        "# load image data\n",
        "dataset = load_real_samples()"
      ],
      "metadata": {
        "id": "BNroM5fHd2vT"
      },
      "execution_count": 24,
      "outputs": []
    },
    {
      "cell_type": "code",
      "source": [
        "%%time\n",
        "# train model\n",
        "train(g_model, d_model, gan_model, dataset, latent_dim, n_epochs=n_epochs)"
      ],
      "metadata": {
        "colab": {
          "base_uri": "https://localhost:8080/"
        },
        "id": "63ejj31Cu7U7",
        "outputId": "d074c777-febe-454f-92af-1608a24698aa"
      },
      "execution_count": 31,
      "outputs": [
        {
          "output_type": "stream",
          "name": "stdout",
          "text": [
            "Epoch >1, Batch 64/468, d1=0.648, d2=0.614 g=0.834, time=7.02 s\n",
            "Epoch >1, Batch 128/468, d1=0.602, d2=0.638 g=0.789, time=13.79 s\n",
            "Epoch >1, Batch 192/468, d1=0.683, d2=0.690 g=0.746, time=20.53 s\n",
            "Epoch >1, Batch 256/468, d1=0.660, d2=0.595 g=0.870, time=27.51 s\n",
            "Epoch >1, Batch 320/468, d1=0.695, d2=0.610 g=0.839, time=34.41 s\n",
            "Epoch >1, Batch 384/468, d1=0.639, d2=0.724 g=0.710, time=41.46 s\n",
            "Epoch >1, Batch 448/468, d1=0.659, d2=0.643 g=0.813, time=50.90 s\n",
            "Epoch time: 53.61 s; Total time: 53.61 s\n",
            "Epoch >2, Batch 64/468, d1=0.626, d2=0.721 g=0.720, time=61.77 s\n",
            "Epoch >2, Batch 128/468, d1=0.571, d2=0.652 g=0.814, time=69.33 s\n",
            "Epoch >2, Batch 192/468, d1=0.559, d2=0.617 g=0.898, time=76.18 s\n",
            "Epoch >2, Batch 256/468, d1=0.723, d2=0.744 g=0.754, time=84.67 s\n",
            "Epoch >2, Batch 320/468, d1=0.718, d2=0.749 g=0.781, time=92.57 s\n",
            "Epoch >2, Batch 384/468, d1=0.641, d2=0.621 g=0.845, time=101.10 s\n",
            "Epoch >2, Batch 448/468, d1=0.703, d2=0.617 g=0.820, time=110.13 s\n",
            "Epoch time: 59.29 s; Total time: 112.89 s\n",
            "Epoch >3, Batch 64/468, d1=0.624, d2=0.678 g=0.792, time=121.45 s\n",
            "Epoch >3, Batch 128/468, d1=0.638, d2=0.684 g=0.760, time=129.58 s\n",
            "Epoch >3, Batch 192/468, d1=0.689, d2=0.628 g=0.784, time=137.17 s\n",
            "Epoch >3, Batch 256/468, d1=0.663, d2=0.671 g=0.798, time=143.91 s\n",
            "Epoch >3, Batch 320/468, d1=0.655, d2=0.622 g=0.797, time=150.63 s\n",
            "Epoch >3, Batch 384/468, d1=0.694, d2=0.679 g=0.773, time=157.26 s\n",
            "Epoch >3, Batch 448/468, d1=0.668, d2=0.625 g=0.816, time=164.45 s\n",
            "Epoch time: 53.63 s; Total time: 166.53 s\n",
            "Epoch >4, Batch 64/468, d1=0.677, d2=0.685 g=0.763, time=173.24 s\n",
            "Epoch >4, Batch 128/468, d1=0.698, d2=0.624 g=0.882, time=179.96 s\n",
            "Epoch >4, Batch 192/468, d1=0.663, d2=0.711 g=0.794, time=186.89 s\n",
            "Epoch >4, Batch 256/468, d1=0.625, d2=0.571 g=0.886, time=193.57 s\n",
            "Epoch >4, Batch 320/468, d1=0.659, d2=0.670 g=0.761, time=200.31 s\n",
            "Epoch >4, Batch 384/468, d1=0.690, d2=0.674 g=0.799, time=207.04 s\n",
            "Epoch >4, Batch 448/468, d1=0.641, d2=0.637 g=0.816, time=213.83 s\n",
            "Epoch time: 49.36 s; Total time: 215.89 s\n",
            "Epoch >5, Batch 64/468, d1=0.628, d2=0.664 g=0.828, time=222.51 s\n",
            "Epoch >5, Batch 128/468, d1=0.621, d2=0.620 g=0.829, time=229.24 s\n",
            "Epoch >5, Batch 192/468, d1=0.674, d2=0.664 g=0.783, time=235.90 s\n",
            "Epoch >5, Batch 256/468, d1=0.648, d2=0.672 g=0.788, time=242.60 s\n",
            "Epoch >5, Batch 320/468, d1=0.720, d2=0.694 g=0.792, time=249.24 s\n",
            "Epoch >5, Batch 384/468, d1=0.672, d2=0.673 g=0.815, time=255.83 s\n",
            "Epoch >5, Batch 448/468, d1=0.658, d2=0.672 g=0.784, time=262.43 s\n",
            "Epoch time: 48.65 s; Total time: 264.54 s\n",
            "Epoch >6, Batch 64/468, d1=0.706, d2=0.573 g=0.868, time=271.13 s\n",
            "Epoch >6, Batch 128/468, d1=0.677, d2=0.632 g=0.804, time=277.73 s\n",
            "Epoch >6, Batch 192/468, d1=0.657, d2=0.626 g=0.832, time=284.59 s\n",
            "Epoch >6, Batch 256/468, d1=0.594, d2=0.630 g=0.845, time=291.31 s\n",
            "Epoch >6, Batch 320/468, d1=0.631, d2=0.665 g=0.815, time=297.96 s\n",
            "Epoch >6, Batch 384/468, d1=0.650, d2=0.654 g=0.793, time=304.66 s\n",
            "Epoch >6, Batch 448/468, d1=0.678, d2=0.679 g=0.812, time=311.36 s\n",
            "Epoch time: 48.89 s; Total time: 313.43 s\n",
            "Epoch >7, Batch 64/468, d1=0.680, d2=0.679 g=0.736, time=320.05 s\n",
            "Epoch >7, Batch 128/468, d1=0.670, d2=0.677 g=0.789, time=326.71 s\n",
            "Epoch >7, Batch 192/468, d1=0.655, d2=0.649 g=0.829, time=333.39 s\n",
            "Epoch >7, Batch 256/468, d1=0.649, d2=0.662 g=0.796, time=339.97 s\n",
            "Epoch >7, Batch 320/468, d1=0.659, d2=0.679 g=0.784, time=346.52 s\n",
            "Epoch >7, Batch 384/468, d1=0.627, d2=0.694 g=0.798, time=353.17 s\n",
            "Epoch >7, Batch 448/468, d1=0.687, d2=0.682 g=0.801, time=359.83 s\n",
            "Epoch time: 48.53 s; Total time: 361.96 s\n",
            "Epoch >8, Batch 64/468, d1=0.678, d2=0.643 g=0.809, time=368.61 s\n",
            "Epoch >8, Batch 128/468, d1=0.631, d2=0.683 g=0.776, time=375.13 s\n",
            "Epoch >8, Batch 192/468, d1=0.663, d2=0.662 g=0.787, time=381.72 s\n",
            "Epoch >8, Batch 256/468, d1=0.679, d2=0.681 g=0.814, time=389.08 s\n",
            "Epoch >8, Batch 320/468, d1=0.679, d2=0.656 g=0.812, time=395.75 s\n",
            "Epoch >8, Batch 384/468, d1=0.654, d2=0.640 g=0.841, time=402.39 s\n",
            "Epoch >8, Batch 448/468, d1=0.675, d2=0.671 g=0.767, time=409.16 s\n",
            "Epoch time: 49.33 s; Total time: 411.29 s\n",
            "Epoch >9, Batch 64/468, d1=0.656, d2=0.654 g=0.826, time=418.01 s\n",
            "Epoch >9, Batch 128/468, d1=0.652, d2=0.668 g=0.829, time=424.76 s\n",
            "Epoch >9, Batch 192/468, d1=0.671, d2=0.659 g=0.814, time=431.34 s\n",
            "Epoch >9, Batch 256/468, d1=0.687, d2=0.693 g=0.773, time=437.97 s\n",
            "Epoch >9, Batch 320/468, d1=0.667, d2=0.675 g=0.762, time=444.62 s\n",
            "Epoch >9, Batch 384/468, d1=0.685, d2=0.643 g=0.791, time=451.29 s\n",
            "Epoch >9, Batch 448/468, d1=0.671, d2=0.647 g=0.800, time=457.92 s\n",
            "Epoch time: 48.7 s; Total time: 459.99 s\n",
            "Epoch >10, Batch 64/468, d1=0.649, d2=0.655 g=0.759, time=466.57 s\n",
            "Epoch >10, Batch 128/468, d1=0.672, d2=0.645 g=0.803, time=473.18 s\n",
            "Epoch >10, Batch 192/468, d1=0.681, d2=0.624 g=0.810, time=479.83 s\n",
            "Epoch >10, Batch 256/468, d1=0.674, d2=0.710 g=0.756, time=486.38 s\n",
            "Epoch >10, Batch 320/468, d1=0.691, d2=0.663 g=0.798, time=493.23 s\n",
            "Epoch >10, Batch 384/468, d1=0.651, d2=0.667 g=0.772, time=499.83 s\n",
            "Epoch >10, Batch 448/468, d1=0.674, d2=0.648 g=0.799, time=506.43 s\n"
          ]
        },
        {
          "output_type": "stream",
          "name": "stderr",
          "text": [
            "WARNING:tensorflow:Compiled the loaded model, but the compiled metrics have yet to be built. `model.compile_metrics` will be empty until you train or evaluate the model.\n"
          ]
        },
        {
          "output_type": "stream",
          "name": "stdout",
          "text": [
            "Epoch time: 48.54 s; Total time: 508.54 s\n",
            "CPU times: user 6min, sys: 21 s, total: 6min 21s\n",
            "Wall time: 8min 28s\n"
          ]
        }
      ]
    },
    {
      "cell_type": "markdown",
      "source": [
        "### 1.4 - Evaluating our GAN"
      ],
      "metadata": {
        "id": "q8ESZiOWug-S"
      }
    },
    {
      "cell_type": "code",
      "source": [
        "import numpy as np\n",
        "from numpy.random import randn\n",
        "from numpy.random import randint\n",
        "from keras.models import load_model\n",
        "import matplotlib.pyplot as plt\n",
        "\n",
        "# generate points in latent space as input for the generator\n",
        "def generate_latent_points(latent_dim, n_samples, n_classes=10):\n",
        "  # generate points in the latent space\n",
        "  x_input = randn(latent_dim * n_samples)\n",
        "  # reshape into a batch of inputs for the network\n",
        "  z_input = x_input.reshape(n_samples, latent_dim)\n",
        "  # generate labels\n",
        "  labels = randint(0, n_classes, n_samples)\n",
        "  return [z_input, labels]\n",
        "\n",
        "# create and save a plot of generated images\n",
        "def save_plot(examples, n):\n",
        "  # plot images\n",
        "  for i in range(n * n):\n",
        "    # define subplot\n",
        "    plt.subplot(n, n, 1 + i)\n",
        "    # turn off axis\n",
        "    plt.axis(\"off\")\n",
        "    # plot raw pixel data\n",
        "    plt.imshow(examples[i, :, :, 0], cmap=\"gray_r\")\n",
        "  #plt.show()\n",
        "  plt.savefig(\"cgan_generator_100.png\", dpi=300)\n",
        "\n",
        "# load model\n",
        "model = load_model(\"cgan_generator.h5\")\n",
        "# generate images\n",
        "latent_points, labels = generate_latent_points(100, 100)\n",
        "# specify labels\n",
        "labels = np.asarray([x for _ in range(10) for x in range(10)])\n",
        "# generate images\n",
        "X = model.predict([latent_points, labels])\n",
        "# scale from [-1,1] to [0,1]\n",
        "X = (X + 1) / 2.0\n",
        "# plot the result\n",
        "save_plot(X, 10)"
      ],
      "metadata": {
        "id": "zAYfa15_sq58"
      },
      "execution_count": null,
      "outputs": []
    }
  ]
}